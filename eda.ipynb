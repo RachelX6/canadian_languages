{
 "cells": [
  {
   "cell_type": "markdown",
   "id": "1e79c092-030c-41fc-bbd2-2b3486626a9b",
   "metadata": {
    "tags": []
   },
   "source": [
    "file send to project repository\n"
   ]
  }
 ],
 "metadata": {
  "kernelspec": {
   "display_name": "R",
   "language": "R",
   "name": "ir"
  },
  "language_info": {
   "codemirror_mode": "r",
   "file_extension": ".r",
   "mimetype": "text/x-r-source",
   "name": "R",
   "pygments_lexer": "r",
   "version": "4.2.2"
  }
 },
 "nbformat": 4,
 "nbformat_minor": 5
}
